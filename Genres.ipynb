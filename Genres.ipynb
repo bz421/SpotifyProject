{
 "cells": [
  {
   "cell_type": "code",
   "execution_count": 1,
   "id": "initial_id",
   "metadata": {
    "collapsed": true,
    "ExecuteTime": {
     "end_time": "2024-07-20T00:03:25.908354Z",
     "start_time": "2024-07-20T00:03:24.623828Z"
    }
   },
   "outputs": [],
   "source": [
    "import pandas as pd\n",
    "import numpy as np\n",
    "import matplotlib.pyplot as plt"
   ]
  },
  {
   "cell_type": "code",
   "outputs": [
    {
     "data": {
      "text/plain": "                        Track                    Album Name          Artist  \\\n0         MILLION DOLLAR BABY  Million Dollar Baby - Single   Tommy Richman   \n1                 Not Like Us                   Not Like Us  Kendrick Lamar   \n2  i like the way you kiss me    I like the way you kiss me         Artemas   \n3                     Flowers              Flowers - Single     Miley Cyrus   \n4                     Houdini                       Houdini          Eminem   \n\n  Release Date          ISRC All Time Rank  Track Score Spotify Streams  \\\n0    4/26/2024  QM24S2402528             1        725.4     390,470,936   \n1     5/4/2024  USUG12400910             2        545.9     323,703,884   \n2    3/19/2024  QZJ842400387             3        538.4     601,309,283   \n3    1/12/2023  USSM12209777             4        444.9   2,031,280,633   \n4    5/31/2024  USUG12403398             5        423.3     107,034,922   \n\n  Spotify Playlist Count Spotify Playlist Reach  ...  Deezer Playlist Count  \\\n0                 30,716            196,631,588  ...                   62.0   \n1                 28,113            174,597,137  ...                   67.0   \n2                 54,331            211,607,669  ...                  136.0   \n3                269,802            136,569,078  ...                  264.0   \n4                  7,223            151,469,874  ...                   82.0   \n\n  Deezer Playlist Reach Amazon Playlist Count Pandora Streams  \\\n0            17,598,718                 114.0      18,004,655   \n1            10,422,430                 111.0       7,780,028   \n2            36,321,847                 172.0       5,022,621   \n3            24,684,248                 210.0     190,260,277   \n4            17,660,624                 105.0       4,493,884   \n\n  Pandora Track Stations Soundcloud Streams Shazam Counts  TIDAL Popularity  \\\n0                 22,931          4,818,457     2,669,262               NaN   \n1                 28,444          6,623,075     1,118,279               NaN   \n2                  5,639          7,208,651     5,285,340               NaN   \n3                203,384                NaN    11,822,942               NaN   \n4                  7,006            207,179       457,017               NaN   \n\n  Explicit Track                                       Artist Genre  \n0              0                         ['chill abstract hip hop']  \n1              1  ['conscious hip hop', 'hip hop', 'rap', 'west ...  \n2              0                                                 []  \n3              0                                            ['pop']  \n4              1              ['detroit hip hop', 'hip hop', 'rap']  \n\n[5 rows x 30 columns]",
      "text/html": "<div>\n<style scoped>\n    .dataframe tbody tr th:only-of-type {\n        vertical-align: middle;\n    }\n\n    .dataframe tbody tr th {\n        vertical-align: top;\n    }\n\n    .dataframe thead th {\n        text-align: right;\n    }\n</style>\n<table border=\"1\" class=\"dataframe\">\n  <thead>\n    <tr style=\"text-align: right;\">\n      <th></th>\n      <th>Track</th>\n      <th>Album Name</th>\n      <th>Artist</th>\n      <th>Release Date</th>\n      <th>ISRC</th>\n      <th>All Time Rank</th>\n      <th>Track Score</th>\n      <th>Spotify Streams</th>\n      <th>Spotify Playlist Count</th>\n      <th>Spotify Playlist Reach</th>\n      <th>...</th>\n      <th>Deezer Playlist Count</th>\n      <th>Deezer Playlist Reach</th>\n      <th>Amazon Playlist Count</th>\n      <th>Pandora Streams</th>\n      <th>Pandora Track Stations</th>\n      <th>Soundcloud Streams</th>\n      <th>Shazam Counts</th>\n      <th>TIDAL Popularity</th>\n      <th>Explicit Track</th>\n      <th>Artist Genre</th>\n    </tr>\n  </thead>\n  <tbody>\n    <tr>\n      <th>0</th>\n      <td>MILLION DOLLAR BABY</td>\n      <td>Million Dollar Baby - Single</td>\n      <td>Tommy Richman</td>\n      <td>4/26/2024</td>\n      <td>QM24S2402528</td>\n      <td>1</td>\n      <td>725.4</td>\n      <td>390,470,936</td>\n      <td>30,716</td>\n      <td>196,631,588</td>\n      <td>...</td>\n      <td>62.0</td>\n      <td>17,598,718</td>\n      <td>114.0</td>\n      <td>18,004,655</td>\n      <td>22,931</td>\n      <td>4,818,457</td>\n      <td>2,669,262</td>\n      <td>NaN</td>\n      <td>0</td>\n      <td>['chill abstract hip hop']</td>\n    </tr>\n    <tr>\n      <th>1</th>\n      <td>Not Like Us</td>\n      <td>Not Like Us</td>\n      <td>Kendrick Lamar</td>\n      <td>5/4/2024</td>\n      <td>USUG12400910</td>\n      <td>2</td>\n      <td>545.9</td>\n      <td>323,703,884</td>\n      <td>28,113</td>\n      <td>174,597,137</td>\n      <td>...</td>\n      <td>67.0</td>\n      <td>10,422,430</td>\n      <td>111.0</td>\n      <td>7,780,028</td>\n      <td>28,444</td>\n      <td>6,623,075</td>\n      <td>1,118,279</td>\n      <td>NaN</td>\n      <td>1</td>\n      <td>['conscious hip hop', 'hip hop', 'rap', 'west ...</td>\n    </tr>\n    <tr>\n      <th>2</th>\n      <td>i like the way you kiss me</td>\n      <td>I like the way you kiss me</td>\n      <td>Artemas</td>\n      <td>3/19/2024</td>\n      <td>QZJ842400387</td>\n      <td>3</td>\n      <td>538.4</td>\n      <td>601,309,283</td>\n      <td>54,331</td>\n      <td>211,607,669</td>\n      <td>...</td>\n      <td>136.0</td>\n      <td>36,321,847</td>\n      <td>172.0</td>\n      <td>5,022,621</td>\n      <td>5,639</td>\n      <td>7,208,651</td>\n      <td>5,285,340</td>\n      <td>NaN</td>\n      <td>0</td>\n      <td>[]</td>\n    </tr>\n    <tr>\n      <th>3</th>\n      <td>Flowers</td>\n      <td>Flowers - Single</td>\n      <td>Miley Cyrus</td>\n      <td>1/12/2023</td>\n      <td>USSM12209777</td>\n      <td>4</td>\n      <td>444.9</td>\n      <td>2,031,280,633</td>\n      <td>269,802</td>\n      <td>136,569,078</td>\n      <td>...</td>\n      <td>264.0</td>\n      <td>24,684,248</td>\n      <td>210.0</td>\n      <td>190,260,277</td>\n      <td>203,384</td>\n      <td>NaN</td>\n      <td>11,822,942</td>\n      <td>NaN</td>\n      <td>0</td>\n      <td>['pop']</td>\n    </tr>\n    <tr>\n      <th>4</th>\n      <td>Houdini</td>\n      <td>Houdini</td>\n      <td>Eminem</td>\n      <td>5/31/2024</td>\n      <td>USUG12403398</td>\n      <td>5</td>\n      <td>423.3</td>\n      <td>107,034,922</td>\n      <td>7,223</td>\n      <td>151,469,874</td>\n      <td>...</td>\n      <td>82.0</td>\n      <td>17,660,624</td>\n      <td>105.0</td>\n      <td>4,493,884</td>\n      <td>7,006</td>\n      <td>207,179</td>\n      <td>457,017</td>\n      <td>NaN</td>\n      <td>1</td>\n      <td>['detroit hip hop', 'hip hop', 'rap']</td>\n    </tr>\n  </tbody>\n</table>\n<p>5 rows × 30 columns</p>\n</div>"
     },
     "execution_count": 2,
     "metadata": {},
     "output_type": "execute_result"
    }
   ],
   "source": [
    "df = pd.read_csv('out.csv')\n",
    "df.head()"
   ],
   "metadata": {
    "collapsed": false,
    "ExecuteTime": {
     "end_time": "2024-07-20T00:03:25.975301Z",
     "start_time": "2024-07-20T00:03:25.909389Z"
    }
   },
   "id": "9bfdf0ef955113af",
   "execution_count": 2
  },
  {
   "cell_type": "code",
   "outputs": [],
   "source": [
    "df['Release Date']=pd.to_datetime(df['Release Date'], format = \"%m/%d/%Y\")"
   ],
   "metadata": {
    "collapsed": false,
    "ExecuteTime": {
     "end_time": "2024-07-20T00:03:25.988376Z",
     "start_time": "2024-07-20T00:03:25.975301Z"
    }
   },
   "id": "a945b3abe193a77a",
   "execution_count": 3
  },
  {
   "cell_type": "code",
   "outputs": [],
   "source": [
    "df['Spotify Streams']= df['Spotify Streams'].replace(',','', regex=True)\n",
    "\n",
    "df['Spotify Streams'] = pd.to_numeric(df['Spotify Streams'].fillna(0), downcast = 'integer', errors='coerce').fillna(0)\n",
    "\n",
    "strings_to_nums = df[['All Time Rank','Spotify Playlist Count','Spotify Playlist Reach','YouTube Views','YouTube Likes'\n",
    "                               ,'TikTok Posts','TikTok Likes','TikTok Views','YouTube Playlist Reach','AirPlay Spins','SiriusXM Spins'\n",
    "                               ,'Deezer Playlist Reach','Pandora Streams','Pandora Track Stations','Soundcloud Streams','Shazam Counts']].fillna(0)\n",
    "strings_to_nums = strings_to_nums.replace(',','', regex=True)\n",
    "strings_to_nums = strings_to_nums.apply(pd.to_numeric, args =('coerce','integer')).fillna('0')\n",
    "\n",
    "df[['All Time Rank','Spotify Playlist Count','Spotify Playlist Reach','YouTube Views','YouTube Likes','TikTok Posts','TikTok Likes'\n",
    "             ,'TikTok Views','YouTube Playlist Reach','AirPlay Spins','SiriusXM Spins','Deezer Playlist Reach','Pandora Streams','Pandora Track Stations'\n",
    "             ,'Soundcloud Streams','Shazam Counts']] = strings_to_nums\n",
    "df[['Spotify Popularity', 'Apple Music Playlist Count', 'Deezer Playlist Count', 'Amazon Playlist Count']] = df[['Spotify Popularity', 'Apple Music Playlist Count', 'Deezer Playlist Count', 'Amazon Playlist Count']].fillna(0).astype(int)\n",
    "\n",
    "df['Explicit Track']= df['Explicit Track'].astype(bool)\n"
   ],
   "metadata": {
    "collapsed": false,
    "ExecuteTime": {
     "end_time": "2024-07-20T00:03:26.078964Z",
     "start_time": "2024-07-20T00:03:25.990413Z"
    }
   },
   "id": "c49a0306082d40ee",
   "execution_count": 4
  },
  {
   "cell_type": "code",
   "outputs": [
    {
     "data": {
      "text/plain": "Track                                 object\nAlbum Name                            object\nArtist                                object\nRelease Date                  datetime64[ns]\nISRC                                  object\nAll Time Rank                          int16\nTrack Score                          float64\nSpotify Streams                        int64\nSpotify Playlist Count                 int32\nSpotify Playlist Reach                 int32\nSpotify Popularity                     int32\nYouTube Views                          int64\nYouTube Likes                          int32\nTikTok Posts                           int32\nTikTok Likes                           int64\nTikTok Views                           int64\nYouTube Playlist Reach                 int64\nApple Music Playlist Count             int32\nAirPlay Spins                          int32\nSiriusXM Spins                         int16\nDeezer Playlist Count                  int32\nDeezer Playlist Reach                  int32\nAmazon Playlist Count                  int32\nPandora Streams                        int32\nPandora Track Stations                 int32\nSoundcloud Streams                     int32\nShazam Counts                          int32\nTIDAL Popularity                     float64\nExplicit Track                          bool\nArtist Genre                          object\ndtype: object"
     },
     "execution_count": 5,
     "metadata": {},
     "output_type": "execute_result"
    }
   ],
   "source": [
    "df.dtypes"
   ],
   "metadata": {
    "collapsed": false,
    "ExecuteTime": {
     "end_time": "2024-07-20T00:03:26.089555Z",
     "start_time": "2024-07-20T00:03:26.080985Z"
    }
   },
   "id": "8f3a209565e56d6b",
   "execution_count": 5
  },
  {
   "cell_type": "code",
   "outputs": [
    {
     "ename": "ValueError",
     "evalue": "malformed node or string: ['chill abstract hip hop']",
     "output_type": "error",
     "traceback": [
      "\u001B[1;31m---------------------------------------------------------------------------\u001B[0m",
      "\u001B[1;31mValueError\u001B[0m                                Traceback (most recent call last)",
      "Cell \u001B[1;32mIn[21], line 2\u001B[0m\n\u001B[0;32m      1\u001B[0m \u001B[38;5;28;01mimport\u001B[39;00m \u001B[38;5;21;01mast\u001B[39;00m\n\u001B[1;32m----> 2\u001B[0m lst \u001B[38;5;241m=\u001B[39m [ast\u001B[38;5;241m.\u001B[39mliteral_eval(e) \u001B[38;5;28;01mfor\u001B[39;00m e \u001B[38;5;129;01min\u001B[39;00m df[\u001B[38;5;124m'\u001B[39m\u001B[38;5;124mArtist Genre\u001B[39m\u001B[38;5;124m'\u001B[39m]]\n\u001B[0;32m      3\u001B[0m df[\u001B[38;5;124m'\u001B[39m\u001B[38;5;124mArtist Genre\u001B[39m\u001B[38;5;124m'\u001B[39m] \u001B[38;5;241m=\u001B[39m lst\n",
      "Cell \u001B[1;32mIn[21], line 2\u001B[0m, in \u001B[0;36m<listcomp>\u001B[1;34m(.0)\u001B[0m\n\u001B[0;32m      1\u001B[0m \u001B[38;5;28;01mimport\u001B[39;00m \u001B[38;5;21;01mast\u001B[39;00m\n\u001B[1;32m----> 2\u001B[0m lst \u001B[38;5;241m=\u001B[39m [ast\u001B[38;5;241m.\u001B[39mliteral_eval(e) \u001B[38;5;28;01mfor\u001B[39;00m e \u001B[38;5;129;01min\u001B[39;00m df[\u001B[38;5;124m'\u001B[39m\u001B[38;5;124mArtist Genre\u001B[39m\u001B[38;5;124m'\u001B[39m]]\n\u001B[0;32m      3\u001B[0m df[\u001B[38;5;124m'\u001B[39m\u001B[38;5;124mArtist Genre\u001B[39m\u001B[38;5;124m'\u001B[39m] \u001B[38;5;241m=\u001B[39m lst\n",
      "File \u001B[1;32m~\\anaconda3\\Lib\\ast.py:110\u001B[0m, in \u001B[0;36mliteral_eval\u001B[1;34m(node_or_string)\u001B[0m\n\u001B[0;32m    108\u001B[0m                 \u001B[38;5;28;01mreturn\u001B[39;00m left \u001B[38;5;241m-\u001B[39m right\n\u001B[0;32m    109\u001B[0m     \u001B[38;5;28;01mreturn\u001B[39;00m _convert_signed_num(node)\n\u001B[1;32m--> 110\u001B[0m \u001B[38;5;28;01mreturn\u001B[39;00m _convert(node_or_string)\n",
      "File \u001B[1;32m~\\anaconda3\\Lib\\ast.py:109\u001B[0m, in \u001B[0;36mliteral_eval.<locals>._convert\u001B[1;34m(node)\u001B[0m\n\u001B[0;32m    107\u001B[0m         \u001B[38;5;28;01melse\u001B[39;00m:\n\u001B[0;32m    108\u001B[0m             \u001B[38;5;28;01mreturn\u001B[39;00m left \u001B[38;5;241m-\u001B[39m right\n\u001B[1;32m--> 109\u001B[0m \u001B[38;5;28;01mreturn\u001B[39;00m _convert_signed_num(node)\n",
      "File \u001B[1;32m~\\anaconda3\\Lib\\ast.py:83\u001B[0m, in \u001B[0;36mliteral_eval.<locals>._convert_signed_num\u001B[1;34m(node)\u001B[0m\n\u001B[0;32m     81\u001B[0m     \u001B[38;5;28;01melse\u001B[39;00m:\n\u001B[0;32m     82\u001B[0m         \u001B[38;5;28;01mreturn\u001B[39;00m \u001B[38;5;241m-\u001B[39m operand\n\u001B[1;32m---> 83\u001B[0m \u001B[38;5;28;01mreturn\u001B[39;00m _convert_num(node)\n",
      "File \u001B[1;32m~\\anaconda3\\Lib\\ast.py:74\u001B[0m, in \u001B[0;36mliteral_eval.<locals>._convert_num\u001B[1;34m(node)\u001B[0m\n\u001B[0;32m     72\u001B[0m \u001B[38;5;28;01mdef\u001B[39;00m \u001B[38;5;21m_convert_num\u001B[39m(node):\n\u001B[0;32m     73\u001B[0m     \u001B[38;5;28;01mif\u001B[39;00m \u001B[38;5;129;01mnot\u001B[39;00m \u001B[38;5;28misinstance\u001B[39m(node, Constant) \u001B[38;5;129;01mor\u001B[39;00m \u001B[38;5;28mtype\u001B[39m(node\u001B[38;5;241m.\u001B[39mvalue) \u001B[38;5;129;01mnot\u001B[39;00m \u001B[38;5;129;01min\u001B[39;00m (\u001B[38;5;28mint\u001B[39m, \u001B[38;5;28mfloat\u001B[39m, \u001B[38;5;28mcomplex\u001B[39m):\n\u001B[1;32m---> 74\u001B[0m         _raise_malformed_node(node)\n\u001B[0;32m     75\u001B[0m     \u001B[38;5;28;01mreturn\u001B[39;00m node\u001B[38;5;241m.\u001B[39mvalue\n",
      "File \u001B[1;32m~\\anaconda3\\Lib\\ast.py:71\u001B[0m, in \u001B[0;36mliteral_eval.<locals>._raise_malformed_node\u001B[1;34m(node)\u001B[0m\n\u001B[0;32m     69\u001B[0m \u001B[38;5;28;01mif\u001B[39;00m lno \u001B[38;5;241m:=\u001B[39m \u001B[38;5;28mgetattr\u001B[39m(node, \u001B[38;5;124m'\u001B[39m\u001B[38;5;124mlineno\u001B[39m\u001B[38;5;124m'\u001B[39m, \u001B[38;5;28;01mNone\u001B[39;00m):\n\u001B[0;32m     70\u001B[0m     msg \u001B[38;5;241m+\u001B[39m\u001B[38;5;241m=\u001B[39m \u001B[38;5;124mf\u001B[39m\u001B[38;5;124m'\u001B[39m\u001B[38;5;124m on line \u001B[39m\u001B[38;5;132;01m{\u001B[39;00mlno\u001B[38;5;132;01m}\u001B[39;00m\u001B[38;5;124m'\u001B[39m\n\u001B[1;32m---> 71\u001B[0m \u001B[38;5;28;01mraise\u001B[39;00m \u001B[38;5;167;01mValueError\u001B[39;00m(msg \u001B[38;5;241m+\u001B[39m \u001B[38;5;124mf\u001B[39m\u001B[38;5;124m'\u001B[39m\u001B[38;5;124m: \u001B[39m\u001B[38;5;132;01m{\u001B[39;00mnode\u001B[38;5;132;01m!r}\u001B[39;00m\u001B[38;5;124m'\u001B[39m)\n",
      "\u001B[1;31mValueError\u001B[0m: malformed node or string: ['chill abstract hip hop']"
     ]
    }
   ],
   "source": [
    "import ast\n",
    "lst = [ast.literal_eval(e) for e in df['Artist Genre']]\n",
    "df['Artist Genre'] = lst"
   ],
   "metadata": {
    "collapsed": false,
    "ExecuteTime": {
     "end_time": "2024-07-20T00:05:22.006649Z",
     "start_time": "2024-07-20T00:05:20.795792Z"
    }
   },
   "id": "21f20de5daef46f6",
   "execution_count": 21
  },
  {
   "cell_type": "code",
   "outputs": [
    {
     "data": {
      "text/plain": "                        Track                    Album Name          Artist  \\\n0         MILLION DOLLAR BABY  Million Dollar Baby - Single   Tommy Richman   \n1                 Not Like Us                   Not Like Us  Kendrick Lamar   \n2  i like the way you kiss me    I like the way you kiss me         Artemas   \n3                     Flowers              Flowers - Single     Miley Cyrus   \n4                     Houdini                       Houdini          Eminem   \n\n  Release Date          ISRC  All Time Rank  Track Score  Spotify Streams  \\\n0   2024-04-26  QM24S2402528              1        725.4        390470936   \n1   2024-05-04  USUG12400910              2        545.9        323703884   \n2   2024-03-19  QZJ842400387              3        538.4        601309283   \n3   2023-01-12  USSM12209777              4        444.9       2031280633   \n4   2024-05-31  USUG12403398              5        423.3        107034922   \n\n   Spotify Playlist Count  Spotify Playlist Reach  ...  Deezer Playlist Count  \\\n0                   30716               196631588  ...                     62   \n1                   28113               174597137  ...                     67   \n2                   54331               211607669  ...                    136   \n3                  269802               136569078  ...                    264   \n4                    7223               151469874  ...                     82   \n\n   Deezer Playlist Reach  Amazon Playlist Count  Pandora Streams  \\\n0               17598718                    114         18004655   \n1               10422430                    111          7780028   \n2               36321847                    172          5022621   \n3               24684248                    210        190260277   \n4               17660624                    105          4493884   \n\n   Pandora Track Stations  Soundcloud Streams  Shazam Counts  \\\n0                   22931             4818457        2669262   \n1                   28444             6623075        1118279   \n2                    5639             7208651        5285340   \n3                  203384                   0       11822942   \n4                    7006              207179         457017   \n\n   TIDAL Popularity  Explicit Track  \\\n0               NaN           False   \n1               NaN            True   \n2               NaN           False   \n3               NaN           False   \n4               NaN            True   \n\n                                        Artist Genre  \n0                           [chill abstract hip hop]  \n1  [conscious hip hop, hip hop, rap, west coast rap]  \n2                                      Not Available  \n3                                              [pop]  \n4                    [detroit hip hop, hip hop, rap]  \n\n[5 rows x 30 columns]",
      "text/html": "<div>\n<style scoped>\n    .dataframe tbody tr th:only-of-type {\n        vertical-align: middle;\n    }\n\n    .dataframe tbody tr th {\n        vertical-align: top;\n    }\n\n    .dataframe thead th {\n        text-align: right;\n    }\n</style>\n<table border=\"1\" class=\"dataframe\">\n  <thead>\n    <tr style=\"text-align: right;\">\n      <th></th>\n      <th>Track</th>\n      <th>Album Name</th>\n      <th>Artist</th>\n      <th>Release Date</th>\n      <th>ISRC</th>\n      <th>All Time Rank</th>\n      <th>Track Score</th>\n      <th>Spotify Streams</th>\n      <th>Spotify Playlist Count</th>\n      <th>Spotify Playlist Reach</th>\n      <th>...</th>\n      <th>Deezer Playlist Count</th>\n      <th>Deezer Playlist Reach</th>\n      <th>Amazon Playlist Count</th>\n      <th>Pandora Streams</th>\n      <th>Pandora Track Stations</th>\n      <th>Soundcloud Streams</th>\n      <th>Shazam Counts</th>\n      <th>TIDAL Popularity</th>\n      <th>Explicit Track</th>\n      <th>Artist Genre</th>\n    </tr>\n  </thead>\n  <tbody>\n    <tr>\n      <th>0</th>\n      <td>MILLION DOLLAR BABY</td>\n      <td>Million Dollar Baby - Single</td>\n      <td>Tommy Richman</td>\n      <td>2024-04-26</td>\n      <td>QM24S2402528</td>\n      <td>1</td>\n      <td>725.4</td>\n      <td>390470936</td>\n      <td>30716</td>\n      <td>196631588</td>\n      <td>...</td>\n      <td>62</td>\n      <td>17598718</td>\n      <td>114</td>\n      <td>18004655</td>\n      <td>22931</td>\n      <td>4818457</td>\n      <td>2669262</td>\n      <td>NaN</td>\n      <td>False</td>\n      <td>[chill abstract hip hop]</td>\n    </tr>\n    <tr>\n      <th>1</th>\n      <td>Not Like Us</td>\n      <td>Not Like Us</td>\n      <td>Kendrick Lamar</td>\n      <td>2024-05-04</td>\n      <td>USUG12400910</td>\n      <td>2</td>\n      <td>545.9</td>\n      <td>323703884</td>\n      <td>28113</td>\n      <td>174597137</td>\n      <td>...</td>\n      <td>67</td>\n      <td>10422430</td>\n      <td>111</td>\n      <td>7780028</td>\n      <td>28444</td>\n      <td>6623075</td>\n      <td>1118279</td>\n      <td>NaN</td>\n      <td>True</td>\n      <td>[conscious hip hop, hip hop, rap, west coast rap]</td>\n    </tr>\n    <tr>\n      <th>2</th>\n      <td>i like the way you kiss me</td>\n      <td>I like the way you kiss me</td>\n      <td>Artemas</td>\n      <td>2024-03-19</td>\n      <td>QZJ842400387</td>\n      <td>3</td>\n      <td>538.4</td>\n      <td>601309283</td>\n      <td>54331</td>\n      <td>211607669</td>\n      <td>...</td>\n      <td>136</td>\n      <td>36321847</td>\n      <td>172</td>\n      <td>5022621</td>\n      <td>5639</td>\n      <td>7208651</td>\n      <td>5285340</td>\n      <td>NaN</td>\n      <td>False</td>\n      <td>Not Available</td>\n    </tr>\n    <tr>\n      <th>3</th>\n      <td>Flowers</td>\n      <td>Flowers - Single</td>\n      <td>Miley Cyrus</td>\n      <td>2023-01-12</td>\n      <td>USSM12209777</td>\n      <td>4</td>\n      <td>444.9</td>\n      <td>2031280633</td>\n      <td>269802</td>\n      <td>136569078</td>\n      <td>...</td>\n      <td>264</td>\n      <td>24684248</td>\n      <td>210</td>\n      <td>190260277</td>\n      <td>203384</td>\n      <td>0</td>\n      <td>11822942</td>\n      <td>NaN</td>\n      <td>False</td>\n      <td>[pop]</td>\n    </tr>\n    <tr>\n      <th>4</th>\n      <td>Houdini</td>\n      <td>Houdini</td>\n      <td>Eminem</td>\n      <td>2024-05-31</td>\n      <td>USUG12403398</td>\n      <td>5</td>\n      <td>423.3</td>\n      <td>107034922</td>\n      <td>7223</td>\n      <td>151469874</td>\n      <td>...</td>\n      <td>82</td>\n      <td>17660624</td>\n      <td>105</td>\n      <td>4493884</td>\n      <td>7006</td>\n      <td>207179</td>\n      <td>457017</td>\n      <td>NaN</td>\n      <td>True</td>\n      <td>[detroit hip hop, hip hop, rap]</td>\n    </tr>\n  </tbody>\n</table>\n<p>5 rows × 30 columns</p>\n</div>"
     },
     "execution_count": 42,
     "metadata": {},
     "output_type": "execute_result"
    }
   ],
   "source": [
    "df.head()"
   ],
   "metadata": {
    "collapsed": false,
    "ExecuteTime": {
     "end_time": "2024-07-20T00:10:15.642443Z",
     "start_time": "2024-07-20T00:10:15.594810Z"
    }
   },
   "id": "f3c72af81f3ed2af",
   "execution_count": 42
  },
  {
   "cell_type": "code",
   "outputs": [
    {
     "name": "stdout",
     "output_type": "stream",
     "text": [
      "{'pop': 920, 'rap': 677, 'urbano latino': 449, 'trap latino': 414, 'Not Available': 380, 'reggaeton': 343, 'hip hop': 327, 'pop rap': 249, 'trap': 242, 'dance pop': 240, 'melodic rap': 144, 'atl hip hop': 134, 'pop dance': 131, 'canadian pop': 128, 'edm': 126, 'latin pop': 120, 'k-pop': 116, 'southern hip hop': 115, 'contemporary country': 114, 'reggaeton colombiano': 113, 'filmi': 100, 'r&b': 98, 'sad sierreno': 97, 'rock': 92, 'uk pop': 89, 'corrido': 86, 'modern bollywood': 86, 'sierreno': 82, 'modern rock': 81, 'k-pop girl group': 80, 'colombian pop': 75, 'corridos tumbados': 71, 'canadian hip hop': 71, 'uk dance': 68, 'chicago rap': 63, 'pov: indie': 61, 'musica mexicana': 61, 'afrobeats': 59, 'singer-songwriter pop': 57, 'country': 55, 'trap argentino': 54, 'house': 53, 'art pop': 51, 'slap house': 48, 'electro house': 47, 'punjabi pop': 47, 'desi pop': 45, 'nigerian pop': 44, 'country road': 44, 'puerto rican pop': 42, 'canadian contemporary r&b': 42, 'k-pop boy group': 42, 'miami hip hop': 42, 'alt z': 41, 'urban contemporary': 40, 'modern country pop': 38, 'argentine hip hop': 37, 'latin viral pop': 37, 'latin hip hop': 36, 'rage rap': 35, 'desi hip hop': 35, 'modern country rock': 35, 'viral pop': 34, 'norteno': 34, 'conscious hip hop': 32, 'gangster rap': 30, 'trap queen': 29, 'alternative metal': 28, 'progressive electro house': 28, 'permanent wave': 28, 'pluggnb': 27, 'atl trap': 26, 'progressive house': 26, 'post-teen pop': 26, 'west coast rap': 25, 'pop venezolano': 25, 'hip pop': 25, 'reggaeton flow': 25, 'florida rap': 25, 'detroit hip hop': 24, 'brooklyn drill': 24, 'mexican pop': 24, 'rap latina': 24, 'pop urbaine': 24, 'arrocha': 24, 'indietronica': 23, 'funk carioca': 23, 'dfw rap': 22, 'pop reggaeton': 22, 'emo rap': 22, 'tropical house': 21, 'trap boricua': 21, 'sertanejo universitario': 21, 'pop argentino': 21, 'memphis hip hop': 21, 'post-grunge': 20, 'r&b en espanol': 20, 'north carolina hip hop': 20, 'viral rap': 20, 'r&b francais': 20, 'french hip hop': 20, 'sped up': 19, 'neo mellow': 19, 'bedroom pop': 19, 'cali rap': 19, 'melodic drill': 18, 'rap metal': 18, 'urbano espanol': 18, 'banda': 18, 'dirty south rap': 17, 'new orleans rap': 17, 'urbano chileno': 17, 'metropopolis': 17, 'brostep': 17, 'trap triste': 17, 'trap brasileiro': 17, 'tennessee hip hop': 17, '5th gen k-pop': 16, 'philly rap': 16, 'turkish pop': 16, 'bhojpuri pop': 16, 'ranchera': 16, 'agronejo': 16, 'sertanejo': 16, 'gen z singer-songwriter': 15, 'lgbtq+ hip hop': 15, 'pop soul': 15, 'talent show': 15, 'queens hip hop': 15, 'modern alternative rock': 15, 'nu metal': 14, 'j-pop': 14, 'movie tunes': 14, 'nyc rap': 14, 'underground hip hop': 14, 'funk rj': 14, 'dark trap': 14, 'modern indie pop': 13, 'afropop': 13, 'funk mtg': 13, 'funk paulista': 13, 'cloud rap': 13, 'barbadian pop': 13, 'punjabi hip hop': 13, 'pop r&b': 13, 'boy band': 13, 'kentucky hip hop': 12, 'r&drill': 12, 'australian hip hop': 12, 'australian pop': 12, 'british soul': 12, 'classic oklahoma country': 12, 'indie poptimism': 12, 'arab pop': 12, 'alternative rock': 12, 'italian pop': 12, 'forro': 12, 'krushclub': 12, 'east coast hip hop': 11, 'pop rock': 11, 'urbano mexicano': 11, 'drill': 11, 'piano rock': 11, 'hypertechno': 11, 'electropop': 11, 'nigerian hip hop': 11, 'indie pop': 11, 'folk-pop': 11, 'haryanvi pop': 11, 'indonesian pop': 11, 'garage rock': 11, 'chicago drill': 10, 'gym phonk': 10, 'azontobeats': 10, 'viral trap': 10, 'dancehall': 10, 'japanese teen pop': 10, 'electronic trap': 10, 'musica para ninos': 10, 'funk consciente': 10, 'k-rap': 10, 'deep house': 10, 'desi trap': 10, 'stutter house': 10, 'plugg': 10, 'classic rock': 10, 'baton rouge rap': 10, 'deep underground hip hop': 9, 'musica chihuahuense': 9, 'indie pop rap': 9, 'escape room': 9, 'uk contemporary r&b': 9, 'alternative r&b': 9, 'pittsburgh rap': 9, 'mambo chileno': 9, 'houston rap': 9, 'florida drill': 9, 'cumbia pop': 9, 'moombahton': 9, 'tropical': 9, 'pop punk': 9, 'uk hip hop': 9, 'german hip hop': 9, 'sigilkore': 9, 'mariachi': 9, 'pop nacional': 9, 'reggaeton chileno': 8, 'musica infantil': 8, 'rap canario': 8, 'afro r&b': 8, 'latin arena pop': 8, 'hyperpop': 8, 'scandipop': 8, 'neo soul': 8, 'country rap': 8, 'drift phonk': 8, 'german dance': 8, 'pop house': 8, 'dutch edm': 8, 'g funk': 8, 'meme': 8, 'sertanejo pop': 8, 'classic texas country': 8, 'anime': 8, 'bachata': 8, 'hard rock': 8, \"children's music\": 7, 'big room': 7, 'jam band': 7, 'alternative hip hop': 7, 'tejano': 7, 'panamanian pop': 7, 'lebanese pop': 7, 'phonk brasileiro': 7, 'hollywood': 7, 'pop edm': 7, 'turkish hip hop': 7, 'tamil hip hop': 7, 'punk': 7, 'nashville hip hop': 7, 'dembow': 7, 'black americana': 7, 'indian instrumental': 7, 'detroit trap': 7, 'electro latino': 7, 'german pop': 7, 'opm': 7, 'turkish trap': 7, 'italian hip hop': 7, 'indie rock': 7, 'minnesota hip hop': 6, 'contemporary r&b': 6, 'mexican hip hop': 6, 'outlaw country': 6, 'nu-cumbia': 6, 'gruperas inmortales': 6, 'anime rock': 6, 'otacore': 6, 'swedish pop': 6, 'bronx drill': 6, 'rap dominicano': 6, 'gujarati pop': 6, 'hawaiian hip hop': 6, 'aussietronica': 6, 'spanish hip hop': 6, 't-pop': 6, 'sheffield indie': 6, 'russian hip hop': 6, 'modern blues rock': 6, 'cartoon': 5, 'nz pop': 5, 'afrofuturism': 5, 'uk funky': 5, 'belly dance': 5, 'afghan pop': 5, 'deep groove house': 5, 'show tunes': 5, 'reggaeton mexicano': 5, 'glam rock': 5, 'mellow gold': 5, 'ghanaian pop': 5, 'basshall': 5, 'french pop': 5, 'italian adult pop': 5, 'dutch house': 5, 'j-division': 5, 'swedish electropop': 5, 'stomp and holler': 5, 'spanish pop': 5, 'reggae fusion': 5, 'country pop': 5, 'tamil pop': 5, 'punk blues': 5, 'krushfunk': 5, 'ohio hip hop': 5, 'trap italiana': 5, 'metalcore': 5, 'album rock': 5, 'irish singer-songwriter': 4, 'soft rock': 4, 'indie r&b': 4, 'oakland hip hop': 4, 'korean r&b': 4, 'modern alternative pop': 4, 'sad rap': 4, 'sad lo-fi': 4, 'tech house': 4, 'south carolina hip hop': 4, 'lagu jawa': 4, 'belgian edm': 4, 'chill pop': 4, 'indian singer-songwriter': 4, 'girl group': 4, 'indie soul': 4, 'rain': 4, 'jersey club': 4, 'rap conscient': 4, 'moroccan pop': 4, 'canadian trap': 4, 'azonto': 4, 'turkish alt pop': 4, 'afroswing': 4, 'alabama rap': 4, 'mississippi hip hop': 4, 'dembow dominicano': 4, 'korean ost': 4, 'trap funk': 4, 'complextro': 4, 'seattle hip hop': 4, 'drill espanol': 4, 'dance rock': 4, 'london rap': 4, 'v-pop': 4, 'bedroom r&b': 4, 'hindi hip hop': 4, 'soul': 4, 'candy pop': 4, 'australian house': 4, 'st louis rap': 4, 'deep euro house': 4, 'blues rock': 4, 'grunge': 4, 'uk metalcore': 4, 'melodic metalcore': 4, 'dong-yo': 3, 'romanian pop': 3, 'new wave pop': 3, 'etherpop': 3, 'europop': 3, 'brazilian gospel': 3, 'javanese dangdut': 3, 'dangdut koplo': 3, 'vocal jazz': 3, 'uzbek pop': 3, 'funk das antigas': 3, 'operatic pop': 3, 'hare krishna': 3, 'korean old school hip hop': 3, 'rap algerien': 3, 'cubaton': 3, 'progressive jazz fusion': 3, 'smooth jazz': 3, 'jazz funk': 3, 'jazz fusion': 3, 'bedroom soul': 3, 'shaabi': 3, 'slowed and reverb': 3, 'scenecore': 3, 'german techno': 3, 'comic': 3, 'arrochadeira': 3, 'meme rap': 3, 'neo-singer-songwriter': 3, 'british invasion': 3, 'alte': 3, 'norwegian pop': 3, 'stomp pop': 3, 'bases de freestyle': 3, 'syrian hip hop': 3, 'axe': 3, 'filter house': 3, 'speedrun': 3, 'dream pop': 3, 'p-pop': 3, 'social media pop': 3, 'opera': 3, 'acoustic pop': 3, 'pagode baiano': 3, 'australian dance': 3, 'german drill': 3, 'neo-synthpop': 3, 'amapiano': 3, 'russian pop': 3, 'funk ostentacao': 3, 'pakistani hip hop': 3, 'belgian hip hop': 3, 'alternative pop rock': 3, 'chicago bop': 3, 'indonesian viral pop': 3, 'r&b argentino': 3, 'glam metal': 3, 'albanian pop': 3, 'sufi': 3, 'classic pakistani pop': 3, 'dutch rap pop': 3, 'chill drill': 3, 'texas country': 3, 'nursery': 3, 'turkish trap pop': 3, 'egyptian pop': 3, 'bubblegrunge': 3, 'electro': 3, 'rap francais': 3, 'manchester hip hop': 3, 'j-rock': 3, 'funk rock': 3, 'funk metal': 3, 'batidao romantico': 3, 'chill abstract hip hop': 2, 'brooklyn indie': 2, 'romanian house': 2, 'synthpop': 2, 'new romantic': 2, 'crunk': 2, 'bounce': 2, 'shiver pop': 2, 'gauze pop': 2, 'techno': 2, 'fvnky rimex': 2, 'new jersey underground rap': 2, 'adult standards': 2, 'easy listening': 2, 'celtic rock': 2, 'deboxe': 2, 'rave funk': 2, 'rap ivoire': 2, 'latin jazz': 2, 'rap marseille': 2, 'belgian pop': 2, 'ghanaian hip hop': 2, 'melodic house': 2, 'danish pop': 2, 'ukrainian phonk': 2, 'ghanaian alternative': 2, 'rap maroc': 2, 'reparto': 2, 'rif': 2, 'new jersey rap': 2, 'rap conciencia': 2, 'pakistani pop': 2, 'dreamo': 2, 'indonesian folk pop': 2, 'trance': 2, 'dancefloor dnb': 2, 'drum and bass': 2, 'socal pop punk': 2, 'j-pixie': 2, 'vocaloid': 2, 'dutch pop': 2, 'trap colombiano': 2, 'grime': 2, 'arabesk': 2, 'deep turkish pop': 2, 'kollywood': 2, 'comedy rock': 2, 'pixel': 2, 'australian indie rock': 2, 'indie folk': 2, 'idol rock': 2, 'psychedelic rock': 2, 'vallenato': 2, 'rkt': 2, 'baroque pop': 2, 'texas latin rap': 2, 'emo': 2, 'weirdcore': 2, 'la indie': 2, 'pagode': 2, 'eurodance': 2, 'noise pop': 2, 'video game music': 2, 'el paso indie': 2, 'ambient pop': 2, 'shoegaze': 2, 'pinoy idol pop': 2, 'neo-psychedelic': 2, 'australian psych': 2, 'dutch tech house': 2, 'canzone napoletana': 2, 'italian tenor': 2, 'classical tenor': 2, 'nyc pop': 2, 'new beat': 2, 'bongo flava': 2, 'tanzanian pop': 2, 'german rock': 2, 'bachata dominicana': 2, 'german alternative rap': 2, 'australian electropop': 2, 'irish pop': 2, 'dark pop': 2, 'turkce drill': 2, 'christian music': 2, 'ccm': 2, 'adoracao': 2, 'rap napoletano': 2, 'phonk': 2, 'rap belge': 2, 'ottawa rap': 2, 'broadway': 2, 'pinoy hip hop': 2, 'glitchcore': 2, 'lo-fi sleep': 2, 'tollywood': 2, 'comedy rap': 2, 'pop rap brasileiro': 2, 'indonesian r&b': 2, 'milan indie': 2, 'funk bh': 2, 'cumbia sonidera': 2, 'ritmo kombina': 2, 'metal': 2, \"preschool children's music\": 2, 'modern dream pop': 2, 'aesthetic rap': 2, 'thai hip hop': 2, 'austindie': 2, 'boston hip hop': 2, 'classic soul': 2, 'cuarteto': 2, 'concurso de talentos argentino': 2, 'thai viral pop': 2, 'polish viral pop': 2, 'country rock': 2, 'southern rock': 2, 'latin alternative': 2, 'edmonton indie': 2, 'j-pop boy group': 2, 'new york drill': 2, 'russian trap': 2, 'funk pop': 2, 'teen pop': 2, 'skate punk': 2, 'indonesian singer-songwriter': 2, 'canadian rock': 2, 'russian gangster rap': 2, 'vapor pop': 2, 'dutch hip hop': 2, 'cumbia 420': 2, 'kazakh pop': 2, 'uk drill': 2, 'vietnamese hip hop': 2, 'belgian indie': 1, 'estonian pop': 1, 'disco': 1, 'remix brasileiro': 1, 'float house': 1, 'electra': 1, 'thrash metal': 1, 'deathgrind': 1, 'technical death metal': 1, 'death metal': 1, 'brutal death metal': 1, 'grindcore': 1, 'goregrind': 1, 'lounge': 1, 'french classical piano': 1, 'classical piano': 1, 'irish electronic': 1, 'adelaide indie': 1, 'australian shoegaze': 1, 'grungegaze': 1, 'jawaiian': 1, 'indie hip hop': 1, 'bebop': 1, 'jazz': 1, 'samba-jazz': 1, 'bossa nova': 1, 'jazz saxophone': 1, 'cool jazz': 1, 'neoperreo': 1, 'trap catala': 1, 'rap catala': 1, 'palestinian pop': 1, 'acoustic punk': 1, 'marathi pop': 1, 'telugu folk': 1, 'naija worship': 1, 'reggae en espanol': 1, 'puerto rican rock': 1, 'latin tek': 1, 'idol': 1, 'anthem worship': 1, 'surf punk': 1, 'indie surf': 1, 'vegas indie': 1, 'speed up brasileiro': 1, 'hardwave': 1, 'belgian dance': 1, 'gambian hip hop': 1, 'south african house': 1, 'bolobedu house': 1, 'psychedelic pop': 1, 'rhode island rap': 1, 'progressive trance': 1, 'russian trance': 1, 'uplifting trance': 1, 'german trance': 1, \"women's music\": 1, 'la pop': 1, 'sillycore': 1, 'hindi indie': 1, 'indian indie': 1, 'balochi pop': 1, 'khaliji': 1, 'lancashire indie': 1, 'rhythm game': 1, 'funk 150 bpm': 1, 'turkish psych': 1, 'rap uruguayo': 1, 'igbo pop': 1, 'alt-idol': 1, 'merseybeat': 1, 'cantautora argentina': 1, 'monterrey indie': 1, 'perreo': 1, 'virgin islands reggae': 1, 'bassline': 1, 'souldies': 1, 'wrestling': 1, 'chicago house': 1, 'traprun': 1, 'chill phonk': 1, 'islamic recitation': 1, 'symphonic metal': 1, 'christian power metal': 1, 'melodic metal': 1, 'swedish power metal': 1, 'power metal': 1, 'japanese vtuber': 1, 'norwegian indie': 1, 'musica cristiana guatemalteca': 1, 'samba reggae': 1, 'mpb': 1, 'italo dance': 1, 'disco house': 1, 'swedish synthpop': 1, 'polish alternative': 1, 'japanese electropop': 1, 'high vibe': 1, 'corecore': 1, 'westcoast flow': 1, 'atl drill': 1, 'orchestral performance': 1, 'classical performance': 1, 'tech trance': 1, 'bouncy house': 1, 'no beat': 1, 'syrian pop': 1, 'dabke': 1, 'philly drill': 1, 'kindie rock': 1, 'icelandic rock': 1, 'icelandic indie': 1, 'brisbane indie': 1, 'pacific islands pop': 1, 'png pop': 1, 'melanesian pop': 1, 'garage punk blues': 1, 'garage pop': 1, 'boston folk': 1, 'virginia hip hop': 1, 'uk alternative hip hop': 1, 'neo-classical': 1, 'dark synthpop': 1, 'christian alternative rock': 1, 'australian reggae fusion': 1, 'australian surf rock': 1, 'arab alternative': 1, 'covertronica': 1, 'kumaoni pop': 1, 'garhwali pop': 1, 'native american metal': 1, 'native american black metal': 1, 'aggressive phonk': 1, 'polish phonk': 1, 'gym hardstyle': 1, 'trap soul': 1, 'modern salsa': 1, 'salsa': 1, 'rap genovese': 1, 'lullaby': 1, 'trap carioca': 1, 'edinburgh indie': 1, 'pagode novo': 1, 'rap underground argentino': 1, 'worship': 1, 'duranguense': 1, 'kansas city hip hop': 1, 'flamenco urbano': 1, 'chicago indie': 1, 'comic metal': 1, 'parody': 1, 'musica catalana': 1, 'indie catala': 1, 'rasiya': 1, 'experimental hip hop': 1, 'industrial hip hop': 1, 'grupera': 1, 'musica poblana': 1, 'rap rock': 1, 'qawwali': 1, 'post-punk mexicano': 1, 'dark clubbing': 1, 'turkish singer-songwriter': 1, 'cancion melodica': 1, 'cantautor': 1, 'pop romantico': 1, 'baltimore indie': 1, 'san diego rap': 1, 'oc rap': 1, 'scream rap': 1, 'tontipop': 1, 'scam rap': 1, 'austin americana': 1, 'minimal tech house': 1, 'dmv rap': 1, 'memphis phonk': 1, 'japanese drill': 1, 'asian american hip hop': 1, 'reggae': 1, 'dub': 1, 'roots reggae': 1, 'nightcore': 1, 'thai pop rap': 1, 'southern soul': 1, 'jazz blues': 1, 'memphis soul': 1, 'american metalcore': 1, 'tanzanian hip hop': 1, 'bhangra': 1, 'french synthpop': 1, 'french shoegaze': 1, 'israeli pop': 1, 'gujarati garba': 1, 'modern uplift': 1, 'electric blues': 1, 'modern blues': 1, 'classic japanese jazz': 1, 'funk': 1, 'canadian electropop': 1, 'grave wave': 1, 'shimmer pop': 1, 'nwothm': 1, 'naat': 1, 'reggae rock': 1, 'trap chileno': 1, 'haitian dance': 1, 'kompa': 1, 'french techno': 1, 'french tech house': 1, 'cuban rumba': 1, 'boogaloo': 1, 'jazz cubano': 1, 'afro-cuban percussion': 1, 'musica tradicional cubana': 1, 'denver indie': 1, 'sophisti-pop': 1, 'indie anthem-folk': 1, 'korean talent show': 1, 'spanish pop rock': 1, 'asakaa': 1, 'hiplife': 1, 'pinoy indie rock': 1, 'veracruz indie': 1, 'rock en espanol': 1, 'cantautora mexicana': 1, 'j-metal': 1, 'kawaii metal': 1, 'kentucky indie': 1, 'kentucky roots': 1, 'russian viral rap': 1, 'russian dance': 1, 'redneck': 1, 'alternative dance': 1, 'electronica': 1, 'new rave': 1, 'dance-punk': 1, 'canadian latin': 1, 'canadian indie rock': 1, 'vancouver indie': 1, 'drill francais': 1, 'rap baiano': 1, 'trap baiano': 1, 'italian orchestra': 1, 'champeta': 1, 'torch song': 1, 'chanson': 1, 'vintage schlager': 1, 'thai indie rock': 1, 'turkish rock': 1, 'prog metal': 1, 'thai trap': 1, 'german indie': 1, 'manele': 1, 'trap dominicano': 1, 'euphoric hardstyle': 1, 'classic hardstyle': 1, 'melbourne bounce': 1, 'country dawn': 1, 'transpop': 1, 'arabic hip hop': 1, 'tunisian pop': 1, 'rai': 1, 'toronto indie': 1, 'hardcore': 1, 'nyhc': 1, 'straight edge': 1, 'indonesian jazz': 1, 'german singer-songwriter': 1, 'cologne indie': 1, 'melbourne bounce international': 1, 'hamburg hip hop': 1, 'russian reggae': 1, 'swedish hip hop': 1, 'swedish trap': 1, 'swedish gangsta rap': 1, 'swedish trap pop': 1, 'hyphy': 1, 'canadian pop punk': 1, 'canadian punk': 1, 'ambient lo-fi': 1, 'musica neoleonesa': 1, 'cocuk sarkilari': 1, 'kosovan pop': 1, 'odia pop': 1, 'chutney': 1, 'deep pop edm': 1, 'guaracha': 1, 'circuit': 1, 'slow game': 1, 'indie electropop': 1, 'bangla pop': 1, 'screamo': 1, 'doujin': 1, 'musica popular colombiana': 1, 'a cappella': 1, 'italian lounge': 1, 'viet remix': 1, 'chillwave': 1, 'hypnagogic pop': 1, 'indonesian hip hop': 1, 'ukrainian hip hop': 1, 'ukrainian pop': 1, 'ukrainian rock': 1, 'soundtrack': 1, 'cristiana para ninos': 1, 'j-poprock': 1, 'dubstep': 1, 'deep disco house': 1, 'tagalog rap': 1, 'retro soul': 1, 'swedish indie folk': 1, 'visual kei': 1, 'detroit rock': 1, 'koligeet': 1, 'african gospel': 1, 'minimal dub': 1, 'modular techno': 1, 'intelligent dance music': 1, 'minimal techno': 1, 'detroit techno': 1, 'aussie drill': 1, 'japanese soul': 1, 'city pop': 1, 'jamaican dancehall': 1, 'dark r&b': 1, 'lustrum': 1, 'previa': 1, 'acoustic opm': 1, 'swamp rock': 1, 'psychedelic hip hop': 1, 'vapor soul': 1, 'rally house': 1, 'saraiki pop': 1, 'russian electronic': 1, 'arkansas hip hop': 1, 'gymcore': 1, 'bass trap': 1, 'new french touch': 1, 'rockabilly': 1, 'rock-and-roll': 1, 'motown': 1, 'singaporean hip hop': 1, 'malaysian hip hop': 1, 'malaysian pop': 1, 'german metal': 1, 'neue deutsche harte': 1, 'industrial metal': 1, 'industrial rock': 1, 'industrial': 1, 'g-house': 1, 'kazakh hip hop': 1, 'central asian hip hop': 1, 'lo-fi indie': 1, 'slacker rock': 1, 'underground amapiano': 1, 'hawaiian': 1, 'french indie pop': 1, 'french rock': 1, 'scottish rock': 1, 'korean city pop': 1, 'vietnamese melodic rap': 1, 'mahraganat': 1, 'newcastle nsw indie': 1, 'nottingham hip hop': 1, 'pop violin': 1, 'argentine indie': 1, 'sunshine pop': 1, 'singer-songwriter': 1, 'folk rock': 1, 'kenyan pop': 1, 'glasgow indie': 1, 'mexican indie': 1, 'indie triste': 1, 'chihuahua indie': 1, 'diva house': 1, 'bubblegum dance': 1, 'russian drill': 1}\n"
     ]
    }
   ],
   "source": [
    "freq_genre = {'Not Available': 0}\n",
    "\n",
    "for (idx, val) in enumerate(df['Artist Genre']):\n",
    "    if val != 'Not Available':\n",
    "        s = set(val)\n",
    "        for e in s:\n",
    "            try:\n",
    "                freq_genre[e] += 1\n",
    "            except:\n",
    "                freq_genre[e] = 0\n",
    "                freq_genre[e] += 1\n",
    "    else:\n",
    "        freq_genre['Not Available'] += 1\n",
    "\n",
    "\n",
    "sorted_freq_genre = {k: v for k, v in sorted(freq_genre.items(), key=lambda item: item[1], reverse = True)}\n",
    "print(sorted_freq_genre)"
   ],
   "metadata": {
    "collapsed": false,
    "ExecuteTime": {
     "end_time": "2024-07-20T00:10:20.990205Z",
     "start_time": "2024-07-20T00:10:20.978069Z"
    }
   },
   "id": "45474e3765359408",
   "execution_count": 43
  },
  {
   "cell_type": "code",
   "outputs": [
    {
     "data": {
      "text/plain": "               Genre  Freq\n0                pop   920\n1                rap   677\n2      urbano latino   449\n3        trap latino   414\n4      Not Available   380\n..               ...   ...\n924     indie triste     1\n925  chihuahua indie     1\n926       diva house     1\n927  bubblegum dance     1\n928    russian drill     1\n\n[929 rows x 2 columns]",
      "text/html": "<div>\n<style scoped>\n    .dataframe tbody tr th:only-of-type {\n        vertical-align: middle;\n    }\n\n    .dataframe tbody tr th {\n        vertical-align: top;\n    }\n\n    .dataframe thead th {\n        text-align: right;\n    }\n</style>\n<table border=\"1\" class=\"dataframe\">\n  <thead>\n    <tr style=\"text-align: right;\">\n      <th></th>\n      <th>Genre</th>\n      <th>Freq</th>\n    </tr>\n  </thead>\n  <tbody>\n    <tr>\n      <th>0</th>\n      <td>pop</td>\n      <td>920</td>\n    </tr>\n    <tr>\n      <th>1</th>\n      <td>rap</td>\n      <td>677</td>\n    </tr>\n    <tr>\n      <th>2</th>\n      <td>urbano latino</td>\n      <td>449</td>\n    </tr>\n    <tr>\n      <th>3</th>\n      <td>trap latino</td>\n      <td>414</td>\n    </tr>\n    <tr>\n      <th>4</th>\n      <td>Not Available</td>\n      <td>380</td>\n    </tr>\n    <tr>\n      <th>...</th>\n      <td>...</td>\n      <td>...</td>\n    </tr>\n    <tr>\n      <th>924</th>\n      <td>indie triste</td>\n      <td>1</td>\n    </tr>\n    <tr>\n      <th>925</th>\n      <td>chihuahua indie</td>\n      <td>1</td>\n    </tr>\n    <tr>\n      <th>926</th>\n      <td>diva house</td>\n      <td>1</td>\n    </tr>\n    <tr>\n      <th>927</th>\n      <td>bubblegum dance</td>\n      <td>1</td>\n    </tr>\n    <tr>\n      <th>928</th>\n      <td>russian drill</td>\n      <td>1</td>\n    </tr>\n  </tbody>\n</table>\n<p>929 rows × 2 columns</p>\n</div>"
     },
     "execution_count": 44,
     "metadata": {},
     "output_type": "execute_result"
    }
   ],
   "source": [
    "freq_genre = pd.DataFrame(data=[*sorted_freq_genre.items()], columns=['Genre', 'Freq'])\n",
    "freq_genre"
   ],
   "metadata": {
    "collapsed": false,
    "ExecuteTime": {
     "end_time": "2024-07-20T00:10:30.521980Z",
     "start_time": "2024-07-20T00:10:30.504238Z"
    }
   },
   "id": "465bf4076a6a7a0f",
   "execution_count": 44
  },
  {
   "cell_type": "markdown",
   "source": [],
   "metadata": {
    "collapsed": false
   },
   "id": "845e675df5437d9e"
  },
  {
   "cell_type": "code",
   "outputs": [
    {
     "data": {
      "text/plain": "               Genre  Freq Percent\n0                pop      7.757167\n1                rap      5.708263\n2      urbano latino      3.785835\n3        trap latino      3.490725\n4      Not Available      3.204047\n..               ...           ...\n924     indie triste      0.008432\n925  chihuahua indie      0.008432\n926       diva house      0.008432\n927  bubblegum dance      0.008432\n928    russian drill      0.008432\n\n[929 rows x 2 columns]",
      "text/html": "<div>\n<style scoped>\n    .dataframe tbody tr th:only-of-type {\n        vertical-align: middle;\n    }\n\n    .dataframe tbody tr th {\n        vertical-align: top;\n    }\n\n    .dataframe thead th {\n        text-align: right;\n    }\n</style>\n<table border=\"1\" class=\"dataframe\">\n  <thead>\n    <tr style=\"text-align: right;\">\n      <th></th>\n      <th>Genre</th>\n      <th>Freq Percent</th>\n    </tr>\n  </thead>\n  <tbody>\n    <tr>\n      <th>0</th>\n      <td>pop</td>\n      <td>7.757167</td>\n    </tr>\n    <tr>\n      <th>1</th>\n      <td>rap</td>\n      <td>5.708263</td>\n    </tr>\n    <tr>\n      <th>2</th>\n      <td>urbano latino</td>\n      <td>3.785835</td>\n    </tr>\n    <tr>\n      <th>3</th>\n      <td>trap latino</td>\n      <td>3.490725</td>\n    </tr>\n    <tr>\n      <th>4</th>\n      <td>Not Available</td>\n      <td>3.204047</td>\n    </tr>\n    <tr>\n      <th>...</th>\n      <td>...</td>\n      <td>...</td>\n    </tr>\n    <tr>\n      <th>924</th>\n      <td>indie triste</td>\n      <td>0.008432</td>\n    </tr>\n    <tr>\n      <th>925</th>\n      <td>chihuahua indie</td>\n      <td>0.008432</td>\n    </tr>\n    <tr>\n      <th>926</th>\n      <td>diva house</td>\n      <td>0.008432</td>\n    </tr>\n    <tr>\n      <th>927</th>\n      <td>bubblegum dance</td>\n      <td>0.008432</td>\n    </tr>\n    <tr>\n      <th>928</th>\n      <td>russian drill</td>\n      <td>0.008432</td>\n    </tr>\n  </tbody>\n</table>\n<p>929 rows × 2 columns</p>\n</div>"
     },
     "execution_count": 45,
     "metadata": {},
     "output_type": "execute_result"
    }
   ],
   "source": [
    "sorted_freq_percent_genre = {k: (v * 100.0/sum(sorted_freq_genre.values())) for k, v in sorted_freq_genre.items()}\n",
    "\n",
    "freq_percent_genre = pd.DataFrame(data=[*sorted_freq_percent_genre.items()], columns=['Genre', 'Freq Percent'])\n",
    "freq_percent_genre"
   ],
   "metadata": {
    "collapsed": false,
    "ExecuteTime": {
     "end_time": "2024-07-20T00:10:30.585271Z",
     "start_time": "2024-07-20T00:10:30.553586Z"
    }
   },
   "id": "76b11c14c2c5d44d",
   "execution_count": 45
  },
  {
   "cell_type": "code",
   "outputs": [],
   "source": [
    "top10 = {k: (sorted_freq_genre[k]) for k in list(sorted_freq_genre)[:10]}\n",
    "top10_percent = {k: (v * 100.0 / sum(top10.values())) for k, v in top10.items()}\n",
    "df10 = pd.DataFrame(data=[*top10_percent.items()], columns=['Genre', 'Freq Percent'])"
   ],
   "metadata": {
    "collapsed": false,
    "ExecuteTime": {
     "end_time": "2024-07-20T00:10:30.608400Z",
     "start_time": "2024-07-20T00:10:30.596291Z"
    }
   },
   "id": "9d2b083b58b3ac97",
   "execution_count": 46
  },
  {
   "cell_type": "code",
   "outputs": [
    {
     "data": {
      "text/plain": "<Figure size 2000x1000 with 1 Axes>",
      "image/png": "[encoded data removed]"
     },
     "metadata": {},
     "output_type": "display_data"
    }
   ],
   "source": [
    "# top_10 = [\n",
    "#     'pop',\n",
    "#     'rap',\n",
    "#     'urbano latino',\n",
    "#     'trap latino',\n",
    "#     'Not Available',\n",
    "#     'reggaeton',\n",
    "#     'hip hop',\n",
    "#     'pop rap',\n",
    "#     'trap',\n",
    "#     'dance pop'\n",
    "# ]\n",
    "\n",
    "df10.plot(kind = 'pie', y = 'Freq Percent', labels=df10['Genre'], autopct='%1.1f%%', figsize=(20, 10), legend=False)\n",
    "plt.show()"
   ],
   "metadata": {
    "collapsed": false,
    "ExecuteTime": {
     "end_time": "2024-07-20T00:15:26.063425Z",
     "start_time": "2024-07-20T00:15:25.935752Z"
    }
   },
   "id": "8f467f9b542e49ed",
   "execution_count": 73
  },
  {
   "cell_type": "code",
   "outputs": [
    {
     "name": "stdout",
     "output_type": "stream",
     "text": [
      "i like the way you kiss me\n",
      "Danza Kuduro - Cover\n",
      "The Door\n",
      "Danza Kuduro - Cover\n",
      "Future\n",
      "Beat Automotivo Tan Tan Tan Viral\n",
      "Danza Kuduro - Cover\n",
      "Water\n",
      "Lose Control\n",
      "Danza Kuduro - Cover\n",
      "Panda Basi\n",
      "Danza Kuduro - Cover\n",
      "Babba\n",
      "The Way We Move - Extended Mix\n",
      "Pedro\n",
      "Aesthetic\n",
      "Hands\n",
      "Losing Interest - Original Mix\n",
      "Looking Like a Wow End of Year 2023\n",
      "Casca de Bala\n",
      "Back\n",
      "ýýýýýýýýýýýýýýýýýýýýý\n",
      "Again\n",
      "Milf Song\n",
      "Lil Somethin Somethin\n",
      "Voz Emplumada del Monte\n",
      "Si No Estï¿½\n",
      "Praise Jah In The Moonlight\n",
      "Dog's Plan\n",
      "Yummy Fruits and Vegetables\n",
      "Danza Kuduro - Cover\n",
      "Austin\n",
      "Commando\n",
      "Mwaki\n",
      "Bad idea\n",
      "Stumblin' In\n",
      "Beggin'\n",
      "act ii: date @ 8\n",
      "MASHA ULTRAFUNK\n",
      "Faded\n",
      "ýýýýýýýýýý ýýýýýýýýýýýý\n",
      "Sabka Malik Ek\n",
      "Scared To Start\n",
      "Fall Back\n",
      "Chill Vibes\n",
      "Cari Mama Muda (Senorita Joven) - Original Mix\n",
      "Cuando Te Amï¿\n",
      "Close\n",
      "DIME QUE\n",
      "Broccoli\n",
      "I WANNA BE YOUR SLAVE\n",
      "Cute\n",
      "MR. TAKE YA B*TCH (FEAT. CHRISEANROCK)\n",
      "The 5th Letter\n",
      "Tiryakinim\n",
      "BON\n",
      "act ii: date @ 8 (remix)\n",
      "Europapa\n",
      "Papa\n",
      "Memory Reboot\n",
      "Abrarï¿½ï¿½ï¿½s Entry | Jamal Kudu \"ANIMAL\")\n",
      "Karma\n",
      "6 In the Morning (feat. Nate Dogg)\n",
      "Chale\n",
      "Petit gï¿½ï¿\n",
      "Get In With Me\n",
      "Danza Kuduro - Cover\n",
      "THE LONELIEST\n",
      "Aku Sayang Tapi Kau Tak Paham\n",
      "Home\n",
      "I Fck Up\n",
      "Mi Kryptonita\n",
      "Aesthetic\n",
      "Cake By The Ocean - Cover\n",
      "PICK UP THE PHONE (feat. Nate Dogg)\n",
      "April Rain in August Weather\n",
      "LEATHER\n",
      "Chichiquetere\n",
      "Jalebi Baby\n",
      "ýýýýýýýýýýýýýýýýýýýýýýýýýýý\n",
      "Hei Apa Apa / Tik Tak Tik Tik\n",
      "Katchi Sera - From \"Think Indie\"\n",
      "Danza Kuduro - Cover\n",
      "Kill Bill\n",
      "Axel F\n",
      "Fiel\n",
      "2002 - Remix\n",
      "Infinity\n",
      "Addicted\n",
      "Volvï¿\n",
      "You're Really Funny\n",
      "if u think i'm pretty\n",
      "Every Breath You Take\n",
      "123 Song\n",
      "Sign on the Door\n",
      "Alucin\n",
      "Steven Universe\n",
      "Danza Kuduro - Cover\n",
      "Dj Gamm Gamm Piri Slow\n",
      "Hello\n",
      "Baile do Bruxo\n",
      "Giving Me\n",
      "ýýýýýýýýýýýý ýýýýýýýýýýýýýýýý ýýýýýýýýýý\n",
      "Jump\n",
      "Basit Numaralar\n",
      "Chiky Boom\n",
      "Imagine\n",
      "Soak City (Do it)\n",
      "Dï¿½ï¿½\n",
      "LDR\n",
      "ýýýýýýýýýýýýýýýýýý (feat. ýýýýýýýýý ýýýýýýýýýýýýýýý & GUNNER)\n",
      "More than you know\n",
      "SC-9\n",
      "Loosing interest\n",
      "Home\n",
      "Mr Pot Scraper\n",
      "Namas Today - Original Version\n",
      "GASLIGHT\n",
      "Danza Kuduro - Cover\n",
      "Truth or Dare\n",
      "ýýýýýýýýýýýýýýýýýýýýýýýý\n",
      "ýýýýýýýýýýýýýýýýýýýýýýýýýýýýýý\n",
      "Cake By The Ocean - Cover\n",
      "Danza Kuduro - Cover\n",
      "Danza Kuduro - Cover\n",
      "Funny Song\n",
      "The Door\n",
      "Le Monde\n",
      "Stand by Me\n",
      "Sonrï¿½ï¿½ele a la \n",
      "Move Your Body\n",
      "Love Nwantiti - Remix\n",
      "Param Param\n",
      "THE SCOTTS\n",
      "i need you it's so dark\n",
      "Shape of You\n",
      "Sarï¿½ï¿½ Perchï¿½ï¿\n",
      "Bad Feeling (Oompa Loompa)\n",
      "I Don't Even Want To Know\n",
      "30 GRADOS\n",
      "Never Stop\n",
      "Iced Coffee\n",
      "Wellerman - Sea Shanty / 220 KID x Billen Ted Remix\n",
      "Own Brand Freestyle\n",
      "Sin Querer\n",
      "ýýýýýýýýýýýýýýýýýý ýýýýýý ýýýýýý ýýýýýýýýýýýýýýýýýý\n",
      "Butta My Bread\n",
      "Abcdario\n",
      "Ni Una Ni Dos\n",
      "Lalala\n",
      "Ameno Amapiano Remix (You Wanna Bamba)\n",
      "See You Dance (Extended Mix)\n",
      "Cake By The Ocean - Cover\n",
      "No Fuss\n",
      "Dream Girl\n",
      "M.A - Remix\n",
      "On My Grind\n",
      "Breakfast Challenge Song (Slowly)\n",
      "Spokojnie\n",
      "Little Life\n",
      "La solution\n",
      "When It Comes To You\n",
      "Semangat Kerjanya Kawan\n",
      "IT GIRL\n",
      "Creeper Star\n",
      "GOSSIP (feat. Tom Morello)\n",
      "Ten by Ten\n",
      "SUPERMODEL\n",
      "SKEU SKEU (SPEED UP)\n",
      "Wake Me Up (Remix)\n",
      "Aigiri Nandini\n",
      "Loser, Baby\n",
      "Hoy\n",
      "Queen of Kings\n",
      "The Code\n",
      "Jï¿½ï¿½lale\n",
      "Dj Dayak Full Beat Lagu Malihi Janji\n",
      "Ascend\n",
      "REACT\n",
      "Kallo(Feat.Ajay Hooda,Pooja Hooda)\n",
      "So Far\n",
      "Veggie Dance\n",
      "Mahiya Ve Gal Sun Mahiya Vey\n",
      "Lullaby - BadWolf Remix\n",
      "Mommy, Mommy Give Me Yummy\n",
      "Chakalitos\n",
      "Forget About Us\n",
      "ZITTI E BUONI\n",
      "Eid\n",
      "Good Love\n",
      "Little Girl Gone\n",
      "Blicky\n",
      "Baby Shark\n",
      "Funny Song\n",
      "Meet you at the Graveyard\n",
      "Se Le Ve\n",
      "Wellerman - Sea Shanty\n",
      "Je M'appelle\n",
      "Ranjha Maahi\n",
      "Talibans\n",
      "Come and Say - Original Mix\n",
      "Malvada\n",
      "Benjamins Deli\n",
      "TIKTOK\n",
      "All Eyes on Me\n",
      "Love Terremoto - Ao Vivo\n",
      "Poker Face ( Remix )\n",
      "Royalty\n",
      "F Boy\n",
      "Conexï¿½ï¿½es de Mï¿½ï¿½fia (feat. Rich \n",
      "Sand Monkey\n",
      "Bi' Tek Ben Anlarï¿½\n",
      "Cake By The Ocean - Cover\n",
      "Roï¿½ï¿½a Em\n",
      "Ch-Ch-Ch Chick (feat. Chick McGee)\n",
      "Mood Malandro\n",
      "Satu Rasa Cinta\n",
      "Orang Yang Salah - Sped Up Version\n",
      "IT GIRL - Sped up Version\n",
      "20 Tragos\n",
      "GigaChad Theme - Phonk House Version\n",
      "Thank You for Being You\n",
      "OKAY\n",
      "Luchï¿½ï¿½ La\n",
      "ýýýýýýýýýýýýýýýýýýýýýýýýýýýýýýýýýýýýýýýýýýýýýýýýýýýýýýýýýýýýýýýýýýýýýýýý\n",
      "A ver, a ver - Ric Piccolo Edit\n",
      "MATHEMATICAL DISRESPECT\n",
      "Gypsy\n",
      "Wake Up (feat. Chris Brown)\n",
      "Praise Jah in the Moonlight\n",
      "Bado Badi\n",
      "Fall In Love Alone\n",
      "Gï¿½ï¿½r\n",
      "Untitled #13\n",
      "ýýýýýýýýýýýýýýýýýýýýýýýýýýýýýýýýýýýýýýýýýýýýýýýýýýýýýýýýýýýýýýýýýý\n",
      "messy in heaven\n",
      "ýýýýýýýýýýýýýý\n",
      "Om Jai Jagdish Hare\n",
      "Rim Tim Tagi Dim\n",
      "Always This Same Old Song\n",
      "Be My Lover (feat. La Bouche) - 2023 Mix\n",
      "Harmless Python\n",
      "Funk Estranho\n",
      "Problema\n",
      "Falling Angel\n",
      "He Ya Pyar Sajena\n",
      "Spring Snow\n",
      "Halls na Lï¿½ï¿½\n",
      "Yeshua (dance cruise)\n",
      "die\n",
      "Seya\n",
      "Danza Kuduro - Cover\n",
      "ýýýýýýýýý\n",
      "Aria\n",
      "Bhai Tera Gunda\n",
      "SUBMARINER\n",
      "ýýýýýýýýýýýýýý\n",
      "Magic Johnson\n",
      "Purple Stain\n",
      "SAY for thank YOU\n",
      "Weekend\n",
      "Bodak Black\n",
      "2 Balas\n",
      "Stop Giving Me Advice (with Jack Harlow & Dave)\n",
      "Hijo Mio\n",
      "DARBA 9ADIYA\n",
      "Black Route - Kali Car\n",
      "act iii: on god? (she like)\n",
      "Main Sharabi\n",
      "Daru Badnaam\n",
      "Cake By The Ocean - Cover\n",
      "TE AMO ï¿½\n",
      "Kitchen Stove\n",
      "Luchtballon\n",
      "Baby you\n",
      "Home (Lala)\n",
      "ýýýýýýýý ýýýýýýýýýý - ýýýýýýýýýý\n",
      "Wasted Summers\n",
      "Boogieman\n",
      "Maa Nammakam Nuvve Jagan, Vol 1\n",
      "Stunnin' (feat. Harm Franklin)\n",
      "Girls Just Wanna Have Some\n",
      "Sonchadi | Coke Studio Bharat\n",
      "Spongebob\n",
      "Pieces\n",
      "Cake By The Ocean - Cover\n",
      "Ah-Bop\n",
      "Cake By The Ocean - Cover\n",
      "Montagem - Pr Funk\n",
      "Water (Remix)\n",
      "ýý ýýýýýýýý ýýýýýýýýýý\n",
      "Jingle Bell Rock\n",
      "Birds In The Sky\n",
      "Apa Fer Milaange\n",
      "ART\n",
      "Vampiro\n",
      "Tell Me What You Want\n",
      "KABUKI\n",
      "Barely Breathing\n",
      "ýýýýýý ýýýýýýýýýýýý ýýýýýýýýýýýý (My head is spinning like a screw)\n",
      "PARANOIA\n",
      "Beso (Fruta Fresca)\n",
      "Ojos Marrones\n",
      "Me Escapï¿\n",
      "M.A (Mejores Amigos)\n",
      "Cake By The Ocean - Cover\n",
      "Chana Tera Shukriya\n",
      "Caramelo - Remix\n",
      "Nenas\n",
      "Do Not Climb\n",
      "DJ BIWIR BEUREUM-BEUREUM JAWER HAYAM PANO COKLAT KOPI SUSU - RUNTAH\n",
      "Gï¿½ï¿½ï¿½p ï¿½ï¿½ï¿½ï¿½i\n",
      "EVIL EMPIRE\n",
      "Mon ami\n",
      "Zombie Dance with New DB Heroes\n",
      "IDGAF\n",
      "Besito\n",
      "Electric Love\n",
      "Sudden Shower\n",
      "Fim de Semana no Rio\n",
      "You can't control my heart\n",
      "Don't You Know\n",
      "Bahagiaku Sederhana\n",
      "9 bis 9\n",
      "GOAT\n",
      "NINNIN JACK\n",
      "Chasing Game\n",
      "Drift Night\n",
      "Yakï¿½ï¿½ï¿½ï\n",
      "Numero Uno\n",
      "BABY SAID\n",
      "Veggie Dance - Remix\n",
      "Revisando El Celu\n",
      "Como En Los Viejos Tiempos\n",
      "Baby Car\n",
      "HONEY (ARE U COMING?)\n",
      "Vivencias\n",
      "Rude Boy (Superbowl Klean)\n",
      "Back It up and Dump It (Dump Truck)\n",
      "ýýýýýýýýýý ýýýýýýýýýýýý (ýýýýýýýýýýýýýý)\n",
      "Fly high to cloud nine\n",
      "Souk\n",
      "From the Start\n",
      "ýýýýýýýýýýýýýýýý ýýýýýýýýýýýýýý\n",
      "Aking Pahinga - Sped Up Version\n",
      "DOLA\n",
      "Malicious Intentions\n",
      "Blinding Lights\n",
      "Me Porto Bonito - Remix\n",
      "In This Darkness\n",
      "Mua!\n",
      "Bus 11 - John Falke Remix\n",
      "Talk My Shit\n",
      "Picky\n",
      "Ruper Jadu\n",
      "Sigues Con El\n",
      "Me Porto Bonito\n",
      "Param Pom\n",
      "Alo\n",
      "Desde Mis Ojos - Remix\n",
      "ýýýýýý\n",
      "A Mimir En El Chat\n",
      "ýýýH+3+ýýýýýýý7luCJIo0T6...\n",
      "Tipo Hollywood\n",
      "Oye\n",
      "Would You (go to bed with me?)\n",
      "Dj Terompet Pemersatu Bangsa\n",
      "Nature Sounds with Music: Inspiring Thunder and Rain with Relaxing Music\n",
      "life gets hard\n",
      "Por Clave el 13\n",
      "Cena Engraï¿½ï¿½ada e Inusi\n",
      "Fadeaway\n",
      "Happy Birthday\n",
      "All Night Longer\n",
      "Dawai (From \"Air Mata Di Ujung Sajadah\")\n",
      "Cake By The Ocean - Cover\n",
      "Hood By Air Freestyle\n",
      "AirBnb\n",
      "Bodak Yellow\n",
      "Happiest Year\n"
     ]
    }
   ],
   "source": [
    "for (idx, val) in enumerate(df['Artist Genre']):\n",
    "    if val == 'Not Available': print(df['Track'][idx])"
   ],
   "metadata": {
    "collapsed": false,
    "ExecuteTime": {
     "end_time": "2024-07-20T00:10:30.847233Z",
     "start_time": "2024-07-20T00:10:30.840487Z"
    }
   },
   "id": "8f374477ecfd44fe",
   "execution_count": 48
  }
 ],
 "metadata": {
  "kernelspec": {
   "display_name": "Python 3",
   "language": "python",
   "name": "python3"
  },
  "language_info": {
   "codemirror_mode": {
    "name": "ipython",
    "version": 2
   },
   "file_extension": ".py",
   "mimetype": "text/x-python",
   "name": "python",
   "nbconvert_exporter": "python",
   "pygments_lexer": "ipython2",
   "version": "2.7.6"
  }
 },
 "nbformat": 4,
 "nbformat_minor": 5
}
